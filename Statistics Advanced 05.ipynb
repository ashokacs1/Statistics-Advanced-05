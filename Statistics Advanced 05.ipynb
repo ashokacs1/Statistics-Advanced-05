{
 "cells": [
  {
   "cell_type": "markdown",
   "id": "63c9e2f3",
   "metadata": {},
   "source": [
    "# Q1. Calculate the 95% confidence interval for a sample of data with a mean of 50 and a standard deviation of 5 using Python. Interpret the results."
   ]
  },
  {
   "cell_type": "code",
   "execution_count": 1,
   "id": "567bf528",
   "metadata": {},
   "outputs": [
    {
     "name": "stdout",
     "output_type": "stream",
     "text": [
      "95% Confidence Interval: (48.1329693162095, 51.8670306837905)\n"
     ]
    }
   ],
   "source": [
    "import scipy.stats as stats\n",
    "\n",
    "# Define the parameters\n",
    "sample_mean = 50\n",
    "sample_std = 5\n",
    "confidence_level = 0.95\n",
    "sample_size = 30  # You should replace this with your actual sample size\n",
    "\n",
    "# Calculate the standard error\n",
    "standard_error = sample_std / (sample_size ** 0.5)\n",
    "\n",
    "# Calculate the margin of error\n",
    "margin_of_error = standard_error * stats.t.ppf((1 + confidence_level) / 2, sample_size - 1)\n",
    "\n",
    "# Calculate the confidence interval\n",
    "lower_bound = sample_mean - margin_of_error\n",
    "upper_bound = sample_mean + margin_of_error\n",
    "\n",
    "print(\"95% Confidence Interval:\", (lower_bound, upper_bound))\n"
   ]
  },
  {
   "cell_type": "markdown",
   "id": "c6077c98",
   "metadata": {},
   "source": [
    "# Q2. Conduct a chi-square goodness of fit test to determine if the distribution of colors of M&Ms in a bag matches the expected distribution of 20% blue, 20% orange, 20% green, 10% yellow, 10% red, and 20% brown. Use Python to perform the test with a significance level of 0.05."
   ]
  },
  {
   "cell_type": "code",
   "execution_count": 2,
   "id": "704af63b",
   "metadata": {},
   "outputs": [
    {
     "name": "stdout",
     "output_type": "stream",
     "text": [
      "Fail to reject the null hypothesis: The distribution matches the expected distribution.\n"
     ]
    }
   ],
   "source": [
    "import numpy as np\n",
    "from scipy.stats import chisquare\n",
    "\n",
    "# Observed frequencies of each color in the sample\n",
    "observed_frequencies = np.array([50, 45, 55, 30, 30, 60])  # Replace with your actual data\n",
    "\n",
    "# Expected frequencies based on the expected distribution\n",
    "expected_frequencies = np.array([0.20, 0.20, 0.20, 0.10, 0.10, 0.20]) * observed_frequencies.sum()\n",
    "\n",
    "# Perform the chi-square goodness of fit test\n",
    "chi2, p = chisquare(f_obs=observed_frequencies, f_exp=expected_frequencies)\n",
    "\n",
    "# Define the significance level\n",
    "alpha = 0.05\n",
    "\n",
    "# Compare the p-value to the significance level\n",
    "if p < alpha:\n",
    "    print(\"Reject the null hypothesis: The distribution does not match the expected distribution.\")\n",
    "else:\n",
    "    print(\"Fail to reject the null hypothesis: The distribution matches the expected distribution.\")\n"
   ]
  },
  {
   "cell_type": "markdown",
   "id": "fe1a5cd2",
   "metadata": {},
   "source": [
    "# Q3. Use Python to calculate the chi-square statistic and p-value for a contingency table with the following data:\n",
    " \n",
    "          # Group A   Group B\n",
    "# Outcome 1     20    15\n",
    "# Outcome 2     10    25\n",
    "# Outcome 3     15    20"
   ]
  },
  {
   "cell_type": "code",
   "execution_count": 3,
   "id": "4f2ac3ac",
   "metadata": {},
   "outputs": [
    {
     "name": "stdout",
     "output_type": "stream",
     "text": [
      "Chi-square statistic: 5.833333333333334\n",
      "P-value: 0.05411376622282158\n"
     ]
    }
   ],
   "source": [
    "import numpy as np\n",
    "from scipy.stats import chi2_contingency\n",
    "\n",
    "# Create the contingency table\n",
    "contingency_table = np.array([[20, 15], [10, 25], [15, 20]])\n",
    "\n",
    "# Perform the chi-square test\n",
    "chi2, p, dof, expected = chi2_contingency(contingency_table)\n",
    "\n",
    "print(\"Chi-square statistic:\", chi2)\n",
    "print(\"P-value:\", p)\n"
   ]
  },
  {
   "cell_type": "markdown",
   "id": "ed8c70e4",
   "metadata": {},
   "source": [
    "# Q4. A study of the prevalence of smoking in a population of 500 individuals found that 60 individuals smoked. Use Python to calculate the 95% confidence interval for the true proportion of individuals in the population who smoke."
   ]
  },
  {
   "cell_type": "code",
   "execution_count": 4,
   "id": "69d9951b",
   "metadata": {},
   "outputs": [
    {
     "name": "stdout",
     "output_type": "stream",
     "text": [
      "95% Confidence Interval for the Proportion of Smokers: (0.09151638887130707, 0.1484836111286929)\n"
     ]
    }
   ],
   "source": [
    "import scipy.stats as stats\n",
    "import math\n",
    "\n",
    "# Sample size and the number of individuals who smoke\n",
    "sample_size = 500\n",
    "sample_smokers = 60\n",
    "\n",
    "# Calculate the sample proportion\n",
    "sample_proportion = sample_smokers / sample_size\n",
    "\n",
    "# Calculate the standard error of the proportion\n",
    "standard_error = math.sqrt((sample_proportion * (1 - sample_proportion)) / sample_size)\n",
    "\n",
    "# Define the confidence level and z-score for a 95% confidence interval\n",
    "confidence_level = 0.95\n",
    "z_score = stats.norm.ppf(1 - (1 - confidence_level) / 2)\n",
    "\n",
    "# Calculate the margin of error\n",
    "margin_of_error = z_score * standard_error\n",
    "\n",
    "# Calculate the confidence interval\n",
    "lower_bound = sample_proportion - margin_of_error\n",
    "upper_bound = sample_proportion + margin_of_error\n",
    "\n",
    "print(\"95% Confidence Interval for the Proportion of Smokers:\", (lower_bound, upper_bound))\n"
   ]
  },
  {
   "cell_type": "markdown",
   "id": "cc141ffd",
   "metadata": {},
   "source": [
    "# Q5. Calculate the 90% confidence interval for a sample of data with a mean of 75 and a standard deviation of 12 using Python. Interpret the results."
   ]
  },
  {
   "cell_type": "code",
   "execution_count": 5,
   "id": "91f5b387",
   "metadata": {},
   "outputs": [
    {
     "name": "stdout",
     "output_type": "stream",
     "text": [
      "90% Confidence Interval: (71.27739919800369, 78.72260080199631)\n"
     ]
    }
   ],
   "source": [
    "import scipy.stats as stats\n",
    "\n",
    "# Define the parameters\n",
    "sample_mean = 75\n",
    "sample_std = 12\n",
    "confidence_level = 0.90\n",
    "sample_size = 30  # You should replace this with your actual sample size\n",
    "\n",
    "# Calculate the standard error\n",
    "standard_error = sample_std / (sample_size ** 0.5)\n",
    "\n",
    "# Calculate the margin of error\n",
    "margin_of_error = standard_error * stats.t.ppf((1 + confidence_level) / 2, sample_size - 1)\n",
    "\n",
    "# Calculate the confidence interval\n",
    "lower_bound = sample_mean - margin_of_error\n",
    "upper_bound = sample_mean + margin_of_error\n",
    "\n",
    "print(\"90% Confidence Interval:\", (lower_bound, upper_bound))\n"
   ]
  },
  {
   "cell_type": "markdown",
   "id": "16d4f5d6",
   "metadata": {},
   "source": [
    "# Q6. Use Python to plot the chi-square distribution with 10 degrees of freedom. Label the axes and shade the area corresponding to a chi-square statistic of 15."
   ]
  },
  {
   "cell_type": "code",
   "execution_count": 6,
   "id": "36bc504e",
   "metadata": {},
   "outputs": [
    {
     "data": {
      "image/png": "[encoded data removed]",
      "text/plain": [
       "<Figure size 800x600 with 1 Axes>"
      ]
     },
     "metadata": {},
     "output_type": "display_data"
    }
   ],
   "source": [
    "import matplotlib.pyplot as plt\n",
    "import numpy as np\n",
    "import scipy.stats as stats\n",
    "\n",
    "# Degrees of freedom\n",
    "df = 10\n",
    "\n",
    "# Create a range of chi-square values\n",
    "x = np.linspace(0, 30, 1000)\n",
    "\n",
    "# Calculate the chi-square probability density function (PDF) for the given degrees of freedom\n",
    "pdf = stats.chi2.pdf(x, df)\n",
    "\n",
    "# Create the plot\n",
    "plt.figure(figsize=(8, 6))\n",
    "plt.plot(x, pdf, label=f\"Chi-square Distribution (df={df})\")\n",
    "\n",
    "# Shade the area corresponding to a chi-square statistic of 15\n",
    "x_shaded = np.linspace(0, 15, 1000)\n",
    "pdf_shaded = stats.chi2.pdf(x_shaded, df)\n",
    "plt.fill_between(x_shaded, pdf_shaded, color='gray', alpha=0.5, label='Chi-square Statistic (15)')\n",
    "\n",
    "# Label the axes\n",
    "plt.xlabel(\"Chi-square Value\")\n",
    "plt.ylabel(\"Probability Density Function\")\n",
    "plt.title(f\"Chi-square Distribution (df={df}) with Shaded Area for Chi-square Statistic (15)\")\n",
    "\n",
    "# Add a legend\n",
    "plt.legend()\n",
    "\n",
    "# Show the plot\n",
    "plt.grid(True)\n",
    "plt.show()\n"
   ]
  },
  {
   "cell_type": "markdown",
   "id": "ce89e167",
   "metadata": {},
   "source": [
    "# Q7. A random sample of 1000 people was asked if they preferred Coke or Pepsi. Of the sample, 520 preferred Coke. Calculate a 99% confidence interval for the true proportion of people in the population who prefer Coke."
   ]
  },
  {
   "cell_type": "code",
   "execution_count": 7,
   "id": "2d08705d",
   "metadata": {},
   "outputs": [
    {
     "name": "stdout",
     "output_type": "stream",
     "text": [
      "99% Confidence Interval for the Proportion Preferring Coke: (0.4793051576779699, 0.5606948423220302)\n"
     ]
    }
   ],
   "source": [
    "import scipy.stats as stats\n",
    "\n",
    "# Sample size and the number of people who prefer Coke in the sample\n",
    "sample_size = 1000\n",
    "sample_preferred_coke = 520\n",
    "\n",
    "# Calculate the sample proportion\n",
    "sample_proportion = sample_preferred_coke / sample_size\n",
    "\n",
    "# Calculate the standard error of the proportion\n",
    "standard_error = (sample_proportion * (1 - sample_proportion) / sample_size) ** 0.5\n",
    "\n",
    "# Define the confidence level and z-score for a 99% confidence interval\n",
    "confidence_level = 0.99\n",
    "z_score = stats.norm.ppf(1 - (1 - confidence_level) / 2)\n",
    "\n",
    "# Calculate the margin of error\n",
    "margin_of_error = z_score * standard_error\n",
    "\n",
    "# Calculate the confidence interval\n",
    "lower_bound = sample_proportion - margin_of_error\n",
    "upper_bound = sample_proportion + margin_of_error\n",
    "\n",
    "print(\"99% Confidence Interval for the Proportion Preferring Coke:\", (lower_bound, upper_bound))\n"
   ]
  },
  {
   "cell_type": "markdown",
   "id": "9257f863",
   "metadata": {},
   "source": [
    "# Q8. A researcher hypothesizes that a coin is biased towards tails. They flip the coin 100 times and observe45 tails. Conduct a chi-square goodness of fit test to determine if the observed frequencies match the expected frequencies of a fair coin. Use a significance level of 0.05."
   ]
  },
  {
   "cell_type": "code",
   "execution_count": 8,
   "id": "54d4fc43",
   "metadata": {},
   "outputs": [
    {
     "name": "stdout",
     "output_type": "stream",
     "text": [
      "Fail to reject the null hypothesis: The observed frequencies match the expected frequencies of a fair coin.\n"
     ]
    }
   ],
   "source": [
    "import numpy as np\n",
    "from scipy.stats import chisquare\n",
    "\n",
    "# Observed frequency of tails\n",
    "observed_tails = 45\n",
    "\n",
    "# Total number of coin flips\n",
    "total_flips = 100\n",
    "\n",
    "# Expected frequency of tails for a fair coin\n",
    "expected_tails = 0.5 * total_flips\n",
    "\n",
    "# Create the observed and expected frequencies as an array\n",
    "observed_frequencies = np.array([observed_tails, total_flips - observed_tails])\n",
    "expected_frequencies = np.array([expected_tails, total_flips - expected_tails])\n",
    "\n",
    "# Perform the chi-square goodness of fit test\n",
    "chi2, p = chisquare(f_obs=observed_frequencies, f_exp=expected_frequencies)\n",
    "\n",
    "# Define the significance level\n",
    "alpha = 0.05\n",
    "\n",
    "# Compare the p-value to the significance level\n",
    "if p < alpha:\n",
    "    print(\"Reject the null hypothesis: The coin appears to be biased towards tails.\")\n",
    "else:\n",
    "    print(\"Fail to reject the null hypothesis: The observed frequencies match the expected frequencies of a fair coin.\")\n"
   ]
  },
  {
   "cell_type": "markdown",
   "id": "046134cd",
   "metadata": {},
   "source": [
    "# Q9. A study was conducted to determine if there is an association between smoking status (smoker or on-smoker) and lung cancer diagnosis (yes or no). The results are shown in the contingency table below. onduct a chi-square test for independence to determine if there is a significant association between smoking status and lung cancer diagnosis.       \n",
    "                                            \n",
    "                                        Lung Cancer: Yes               Lung Cancer:no\n",
    "\n",
    "    # Smoker                                60                                 140\n",
    "    # non-smoker                             30                             170    \n",
    "    \n",
    "    Use a significance level of 0.05."
   ]
  },
  {
   "cell_type": "code",
   "execution_count": 10,
   "id": "2db87852",
   "metadata": {},
   "outputs": [
    {
     "name": "stdout",
     "output_type": "stream",
     "text": [
      "Chi-square statistic: 12.057347670250895\n",
      "P-value: 0.0005158863863703744\n",
      "Reject the null hypothesis: There is a significant association between smoking status and lung cancer diagnosis.\n"
     ]
    }
   ],
   "source": [
    "import numpy as np\n",
    "from scipy.stats import chi2_contingency\n",
    "\n",
    "# Create the contingency table\n",
    "contingency_table = np.array([[60, 140], [30, 170]])\n",
    "\n",
    "# Perform the chi-square test for independence\n",
    "chi2, p, dof, expected = chi2_contingency(contingency_table)\n",
    "\n",
    "# Define the significance level\n",
    "alpha = 0.05\n",
    "\n",
    "# Print the chi-square statistic and p-value\n",
    "print(\"Chi-square statistic:\", chi2)\n",
    "print(\"P-value:\", p)\n",
    "\n",
    "# Compare the p-value to the significance level\n",
    "if p < alpha:\n",
    "    print(\"Reject the null hypothesis: There is a significant association between smoking status and lung cancer diagnosis.\")\n",
    "else:\n",
    "    print(\"Fail to reject the null hypothesis: There is no significant association between smoking status and lung cancer diagnosis.\")\n"
   ]
  },
  {
   "cell_type": "markdown",
   "id": "7d790f40",
   "metadata": {},
   "source": [
    "# Q10. A study was conducted to determine if the proportion of people who prefer milk chocolate, dark chocolate, or white chocolate is different in the U.S. versus the U.K. A random sample of 500 people from the U.S. and a random sample of 500 people from the U.K. were surveyed. The results are shown in the contingency table below. Conduct a chi-square test for independence to determine if there is a significant association between chocolate preference and country of origin.\n",
    "\n",
    "                                            # Milk Chocolate           # Dark Chocolate       # White Chocolate\n",
    "# U.S. (n=500)                              200                  150                       150\n",
    "# U.K. (n=500)                             225                   175                       100\n",
    "\n",
    "# Use a significance level of 0.01.\n"
   ]
  },
  {
   "cell_type": "code",
   "execution_count": 11,
   "id": "de7bccfd",
   "metadata": {},
   "outputs": [
    {
     "name": "stdout",
     "output_type": "stream",
     "text": [
      "Chi-square statistic: 13.393665158371041\n",
      "P-value: 0.0012348168997745918\n",
      "Reject the null hypothesis: There is a significant association between chocolate preference and country of origin.\n"
     ]
    }
   ],
   "source": [
    "import numpy as np\n",
    "from scipy.stats import chi2_contingency\n",
    "\n",
    "# Create the contingency table\n",
    "contingency_table = np.array([[200, 150, 150], [225, 175, 100]])\n",
    "\n",
    "# Perform the chi-square test for independence\n",
    "chi2, p, dof, expected = chi2_contingency(contingency_table)\n",
    "\n",
    "# Define the significance level\n",
    "alpha = 0.01\n",
    "\n",
    "# Print the chi-square statistic and p-value\n",
    "print(\"Chi-square statistic:\", chi2)\n",
    "print(\"P-value:\", p)\n",
    "\n",
    "# Compare the p-value to the significance level\n",
    "if p < alpha:\n",
    "    print(\"Reject the null hypothesis: There is a significant association between chocolate preference and country of origin.\")\n",
    "else:\n",
    "    print(\"Fail to reject the null hypothesis: There is no significant association between chocolate preference and country of origin.\")\n"
   ]
  },
  {
   "cell_type": "markdown",
   "id": "db59e0a8",
   "metadata": {},
   "source": [
    "# Q11. A random sample of 30 people was selected from a population with an unknown mean and standard deviation. The sample mean was found to be 72 and the sample standard deviation was found to be 10. Conduct a hypothesis test to determine if the population mean is significantly different from 70. Use a significance level of 0.05"
   ]
  },
  {
   "cell_type": "code",
   "execution_count": 12,
   "id": "42022e15",
   "metadata": {},
   "outputs": [
    {
     "name": "stdout",
     "output_type": "stream",
     "text": [
      "Fail to reject the null hypothesis: There is no significant difference in the population mean and 70.\n"
     ]
    }
   ],
   "source": [
    "import scipy.stats as stats\n",
    "\n",
    "# Sample information\n",
    "sample_mean = 72\n",
    "sample_std = 10\n",
    "sample_size = 30\n",
    "population_mean = 70  # The null hypothesis population mean\n",
    "\n",
    "# Set the significance level\n",
    "alpha = 0.05\n",
    "\n",
    "# Calculate the t-statistic\n",
    "t_statistic = (sample_mean - population_mean) / (sample_std / (sample_size ** 0.5))\n",
    "\n",
    "# Calculate the degrees of freedom\n",
    "degrees_of_freedom = sample_size - 1\n",
    "\n",
    "# Calculate the p-value for a two-tailed test\n",
    "p_value = 2 * (1 - stats.t.cdf(abs(t_statistic), degrees_of_freedom))\n",
    "\n",
    "# Determine whether to reject the null hypothesis\n",
    "if p_value < alpha:\n",
    "    print(\"Reject the null hypothesis: The population mean is significantly different from 70.\")\n",
    "else:\n",
    "    print(\"Fail to reject the null hypothesis: There is no significant difference in the population mean and 70.\")\n"
   ]
  },
  {
   "cell_type": "code",
   "execution_count": null,
   "id": "b91fd6fa",
   "metadata": {},
   "outputs": [],
   "source": []
  }
 ],
 "metadata": {
  "kernelspec": {
   "display_name": "Python 3 (ipykernel)",
   "language": "python",
   "name": "python3"
  },
  "language_info": {
   "codemirror_mode": {
    "name": "ipython",
    "version": 3
   },
   "file_extension": ".py",
   "mimetype": "text/x-python",
   "name": "python",
   "nbconvert_exporter": "python",
   "pygments_lexer": "ipython3",
   "version": "3.10.9"
  }
 },
 "nbformat": 4,
 "nbformat_minor": 5
}
